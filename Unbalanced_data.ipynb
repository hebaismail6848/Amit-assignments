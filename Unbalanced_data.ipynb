{
  "nbformat": 4,
  "nbformat_minor": 0,
  "metadata": {
    "colab": {
      "provenance": [],
      "collapsed_sections": [
        "qrceONlIfPn8",
        "ZfA8MljRgdNm",
        "97CVDR7-iRV9"
      ],
      "gpuType": "T4",
      "include_colab_link": true
    },
    "kernelspec": {
      "name": "python3",
      "display_name": "Python 3"
    },
    "language_info": {
      "name": "python"
    },
    "accelerator": "GPU",
    "gpuClass": "standard"
  },
  "cells": [
    {
      "cell_type": "markdown",
      "metadata": {
        "id": "view-in-github",
        "colab_type": "text"
      },
      "source": [
        "<a href=\"https://colab.research.google.com/github/hebaismail6848/Amit-assignments/blob/main/Unbalanced_data.ipynb\" target=\"_parent\"><img src=\"https://colab.research.google.com/assets/colab-badge.svg\" alt=\"Open In Colab\"/></a>"
      ]
    },
    {
      "cell_type": "markdown",
      "source": [
        "#RandomOverSampler"
      ],
      "metadata": {
        "id": "qrceONlIfPn8"
      }
    },
    {
      "cell_type": "code",
      "source": [
        "import pandas as pd\n",
        "from imblearn.over_sampling import RandomOverSampler\n",
        "from collections import Counter"
      ],
      "metadata": {
        "id": "o1yPNnUifTMC"
      },
      "execution_count": null,
      "outputs": []
    },
    {
      "cell_type": "code",
      "source": [
        "# load dataset from Kaggle\n",
        "df = pd.read_csv('creditcard.csv')"
      ],
      "metadata": {
        "id": "YxXd9-GWfXKD",
        "colab": {
          "base_uri": "https://localhost:8080/"
        },
        "outputId": "21a09279-a62d-4465-eac0-6fd65b1161aa"
      },
      "execution_count": null,
      "outputs": [
        {
          "output_type": "stream",
          "name": "stderr",
          "text": [
            "<ipython-input-4-a3a8c7091220>:2: DtypeWarning: Columns (22) have mixed types. Specify dtype option on import or set low_memory=False.\n",
            "  df = pd.read_csv('creditcard.csv')\n"
          ]
        }
      ]
    },
    {
      "cell_type": "code",
      "source": [
        "# drop rows with missing values\n",
        "df = df.dropna()\n",
        "#because the output has nan and ml models can't fit when the output has nan values"
      ],
      "metadata": {
        "id": "jyO6NONlf7fb"
      },
      "execution_count": null,
      "outputs": []
    },
    {
      "cell_type": "code",
      "source": [
        "# separate features and target variable\n",
        "X = df.drop('Class', axis=1)\n",
        "y = df['Class']"
      ],
      "metadata": {
        "id": "MXXpIwwufYX6"
      },
      "execution_count": null,
      "outputs": []
    },
    {
      "cell_type": "code",
      "source": [
        "# print the original class distribution\n",
        "print('Original class distribution:', Counter(y))"
      ],
      "metadata": {
        "colab": {
          "base_uri": "https://localhost:8080/"
        },
        "id": "ZZSZPqRifbxC",
        "outputId": "dc27ce57-064b-4c48-d95e-9d5b6aed108c"
      },
      "execution_count": null,
      "outputs": [
        {
          "output_type": "stream",
          "name": "stdout",
          "text": [
            "Original class distribution: Counter({0.0: 33656, 1.0: 103})\n"
          ]
        }
      ]
    },
    {
      "cell_type": "code",
      "source": [
        "df['Class'].value_counts()"
      ],
      "metadata": {
        "colab": {
          "base_uri": "https://localhost:8080/"
        },
        "id": "L0ywgxMOfk4g",
        "outputId": "cd763374-77e0-416b-d782-50b1984ec11d"
      },
      "execution_count": null,
      "outputs": [
        {
          "output_type": "execute_result",
          "data": {
            "text/plain": [
              "0.0    33656\n",
              "1.0      103\n",
              "Name: Class, dtype: int64"
            ]
          },
          "metadata": {},
          "execution_count": 8
        }
      ]
    },
    {
      "cell_type": "code",
      "source": [
        "# create oversampler object\n",
        "ros = RandomOverSampler(random_state=42)\n",
        "\n",
        "# apply oversampling to the data\n",
        "X_resampled, y_resampled = ros.fit_resample(X, y)"
      ],
      "metadata": {
        "id": "fwsrjklbfe1j"
      },
      "execution_count": null,
      "outputs": []
    },
    {
      "cell_type": "code",
      "execution_count": null,
      "metadata": {
        "colab": {
          "base_uri": "https://localhost:8080/"
        },
        "outputId": "469961e0-1d5e-46cc-9072-73970ac1f1e3",
        "id": "9f4Mw0smj2Wb"
      },
      "outputs": [
        {
          "output_type": "stream",
          "name": "stdout",
          "text": [
            "Resampled class distribution: Counter({0.0: 33656, 1.0: 33656})\n"
          ]
        }
      ],
      "source": [
        "# print the new class distribution\n",
        "print('Resampled class distribution:', Counter(y_resampled))"
      ]
    },
    {
      "cell_type": "markdown",
      "source": [
        "**you can control the ratio of samples in the minority and majority classes using the sampling_strategy parameter in both RandomOverSampler and RandomUnderSampler.**"
      ],
      "metadata": {
        "id": "HGNWsOyRj2-M"
      }
    },
    {
      "cell_type": "code",
      "source": [
        "# create oversampler object\n",
        "ros = RandomOverSampler(sampling_strategy=0.5,random_state=42)\n",
        "\n",
        "# apply oversampling to the data\n",
        "X_resampled, y_resampled = ros.fit_resample(X, y)"
      ],
      "metadata": {
        "id": "gnfentgCj2Wa"
      },
      "execution_count": null,
      "outputs": []
    },
    {
      "cell_type": "code",
      "execution_count": null,
      "metadata": {
        "colab": {
          "base_uri": "https://localhost:8080/"
        },
        "id": "PhAhbr15fIKh",
        "outputId": "172bc8ef-f578-4f6a-edb4-a5e665300d1b"
      },
      "outputs": [
        {
          "output_type": "stream",
          "name": "stdout",
          "text": [
            "Resampled class distribution: Counter({0.0: 33656, 1.0: 16828})\n"
          ]
        }
      ],
      "source": [
        "# print the new class distribution\n",
        "print('Resampled class distribution:', Counter(y_resampled))"
      ]
    },
    {
      "cell_type": "markdown",
      "source": [
        "#SMOTE"
      ],
      "metadata": {
        "id": "ZfA8MljRgdNm"
      }
    },
    {
      "cell_type": "code",
      "source": [
        "import pandas as pd\n",
        "from imblearn.over_sampling import SMOTE\n",
        "from sklearn.linear_model import LogisticRegression"
      ],
      "metadata": {
        "id": "1lFnL4r0g9gU"
      },
      "execution_count": null,
      "outputs": []
    },
    {
      "cell_type": "code",
      "source": [
        "# load example dataset\n",
        "df = pd.read_csv('creditcard.csv')"
      ],
      "metadata": {
        "id": "SKLqngGVhFo7"
      },
      "execution_count": null,
      "outputs": []
    },
    {
      "cell_type": "code",
      "source": [
        "# drop rows with missing values\n",
        "df = df.dropna()\n",
        "#because the output has nan and ml models can't fit when the output has nan values"
      ],
      "metadata": {
        "id": "ku72R1gehC46"
      },
      "execution_count": null,
      "outputs": []
    },
    {
      "cell_type": "code",
      "source": [
        "# separate features and target variable\n",
        "X = df.drop('Class', axis=1)\n",
        "y = df['Class']"
      ],
      "metadata": {
        "id": "2fRJ9kdjhC46"
      },
      "execution_count": null,
      "outputs": []
    },
    {
      "cell_type": "code",
      "source": [
        "# print the original class distribution\n",
        "print('Original class distribution:', Counter(y))"
      ],
      "metadata": {
        "colab": {
          "base_uri": "https://localhost:8080/"
        },
        "outputId": "1c1c65f0-288a-4bc3-ef58-f31c784d66f9",
        "id": "QRhCsie_hC46"
      },
      "execution_count": null,
      "outputs": [
        {
          "output_type": "stream",
          "name": "stdout",
          "text": [
            "Original class distribution: Counter({0.0: 35638, 1.0: 103})\n"
          ]
        }
      ]
    },
    {
      "cell_type": "code",
      "source": [
        "df['Class'].value_counts()"
      ],
      "metadata": {
        "colab": {
          "base_uri": "https://localhost:8080/"
        },
        "outputId": "f2f75d6f-f33f-4b5b-c1d8-63a66a659258",
        "id": "FfPmBVnKhC47"
      },
      "execution_count": null,
      "outputs": [
        {
          "output_type": "execute_result",
          "data": {
            "text/plain": [
              "0.0    35638\n",
              "1.0      103\n",
              "Name: Class, dtype: int64"
            ]
          },
          "metadata": {},
          "execution_count": 18
        }
      ]
    },
    {
      "cell_type": "code",
      "source": [
        "# create SMOTE object with strategy to handle missing values\n",
        "smote = SMOTE(sampling_strategy='minority', k_neighbors=5)\n",
        "# apply SMOTE to the data\n",
        "X_resampled, y_resampled = smote.fit_resample(X, y)\n",
        "# print the new class distribution\n",
        "print('Resampled class distribution:', Counter(y_resampled))"
      ],
      "metadata": {
        "colab": {
          "base_uri": "https://localhost:8080/"
        },
        "id": "W96Him8FhZrk",
        "outputId": "4beeb380-b759-4127-bbd2-8d08abcc8706"
      },
      "execution_count": null,
      "outputs": [
        {
          "output_type": "stream",
          "name": "stdout",
          "text": [
            "Resampled class distribution: Counter({0.0: 35638, 1.0: 35638})\n"
          ]
        }
      ]
    },
    {
      "cell_type": "markdown",
      "source": [
        "***1- sampling_strategy='minority' will make minority equal to majority bur you can pass float value to specify only ration ***"
      ],
      "metadata": {
        "id": "0eYPRT9Mh1W7"
      }
    },
    {
      "cell_type": "code",
      "source": [
        "# create SMOTE object with strategy to handle missing values\n",
        "smote = SMOTE(sampling_strategy=.5, k_neighbors=5)\n",
        "# apply SMOTE to the data\n",
        "X_resampled, y_resampled = smote.fit_resample(X, y)\n",
        "# print the new class distribution\n",
        "print('Resampled class distribution:', Counter(y_resampled))"
      ],
      "metadata": {
        "colab": {
          "base_uri": "https://localhost:8080/"
        },
        "id": "Q4WfYeG8hctj",
        "outputId": "63ac72d2-55d0-4787-8990-15995a944012"
      },
      "execution_count": null,
      "outputs": [
        {
          "output_type": "stream",
          "name": "stdout",
          "text": [
            "Resampled class distribution: Counter({0.0: 35638, 1.0: 17819})\n"
          ]
        }
      ]
    },
    {
      "cell_type": "code",
      "source": [
        "# fit a logistic regression model\n",
        "model = LogisticRegression()\n",
        "model.fit(X_resampled, y_resampled)"
      ],
      "metadata": {
        "colab": {
          "base_uri": "https://localhost:8080/"
        },
        "id": "y5tAD_qPgela",
        "outputId": "126c5951-fe60-48e1-9a77-de8ac9ed6592"
      },
      "execution_count": null,
      "outputs": [
        {
          "output_type": "stream",
          "name": "stderr",
          "text": [
            "/usr/local/lib/python3.10/dist-packages/sklearn/linear_model/_logistic.py:458: ConvergenceWarning: lbfgs failed to converge (status=1):\n",
            "STOP: TOTAL NO. of ITERATIONS REACHED LIMIT.\n",
            "\n",
            "Increase the number of iterations (max_iter) or scale the data as shown in:\n",
            "    https://scikit-learn.org/stable/modules/preprocessing.html\n",
            "Please also refer to the documentation for alternative solver options:\n",
            "    https://scikit-learn.org/stable/modules/linear_model.html#logistic-regression\n",
            "  n_iter_i = _check_optimize_result(\n"
          ]
        },
        {
          "output_type": "execute_result",
          "data": {
            "text/plain": [
              "LogisticRegression()"
            ],
            "text/html": [
              "<style>#sk-container-id-1 {color: black;background-color: white;}#sk-container-id-1 pre{padding: 0;}#sk-container-id-1 div.sk-toggleable {background-color: white;}#sk-container-id-1 label.sk-toggleable__label {cursor: pointer;display: block;width: 100%;margin-bottom: 0;padding: 0.3em;box-sizing: border-box;text-align: center;}#sk-container-id-1 label.sk-toggleable__label-arrow:before {content: \"▸\";float: left;margin-right: 0.25em;color: #696969;}#sk-container-id-1 label.sk-toggleable__label-arrow:hover:before {color: black;}#sk-container-id-1 div.sk-estimator:hover label.sk-toggleable__label-arrow:before {color: black;}#sk-container-id-1 div.sk-toggleable__content {max-height: 0;max-width: 0;overflow: hidden;text-align: left;background-color: #f0f8ff;}#sk-container-id-1 div.sk-toggleable__content pre {margin: 0.2em;color: black;border-radius: 0.25em;background-color: #f0f8ff;}#sk-container-id-1 input.sk-toggleable__control:checked~div.sk-toggleable__content {max-height: 200px;max-width: 100%;overflow: auto;}#sk-container-id-1 input.sk-toggleable__control:checked~label.sk-toggleable__label-arrow:before {content: \"▾\";}#sk-container-id-1 div.sk-estimator input.sk-toggleable__control:checked~label.sk-toggleable__label {background-color: #d4ebff;}#sk-container-id-1 div.sk-label input.sk-toggleable__control:checked~label.sk-toggleable__label {background-color: #d4ebff;}#sk-container-id-1 input.sk-hidden--visually {border: 0;clip: rect(1px 1px 1px 1px);clip: rect(1px, 1px, 1px, 1px);height: 1px;margin: -1px;overflow: hidden;padding: 0;position: absolute;width: 1px;}#sk-container-id-1 div.sk-estimator {font-family: monospace;background-color: #f0f8ff;border: 1px dotted black;border-radius: 0.25em;box-sizing: border-box;margin-bottom: 0.5em;}#sk-container-id-1 div.sk-estimator:hover {background-color: #d4ebff;}#sk-container-id-1 div.sk-parallel-item::after {content: \"\";width: 100%;border-bottom: 1px solid gray;flex-grow: 1;}#sk-container-id-1 div.sk-label:hover label.sk-toggleable__label {background-color: #d4ebff;}#sk-container-id-1 div.sk-serial::before {content: \"\";position: absolute;border-left: 1px solid gray;box-sizing: border-box;top: 0;bottom: 0;left: 50%;z-index: 0;}#sk-container-id-1 div.sk-serial {display: flex;flex-direction: column;align-items: center;background-color: white;padding-right: 0.2em;padding-left: 0.2em;position: relative;}#sk-container-id-1 div.sk-item {position: relative;z-index: 1;}#sk-container-id-1 div.sk-parallel {display: flex;align-items: stretch;justify-content: center;background-color: white;position: relative;}#sk-container-id-1 div.sk-item::before, #sk-container-id-1 div.sk-parallel-item::before {content: \"\";position: absolute;border-left: 1px solid gray;box-sizing: border-box;top: 0;bottom: 0;left: 50%;z-index: -1;}#sk-container-id-1 div.sk-parallel-item {display: flex;flex-direction: column;z-index: 1;position: relative;background-color: white;}#sk-container-id-1 div.sk-parallel-item:first-child::after {align-self: flex-end;width: 50%;}#sk-container-id-1 div.sk-parallel-item:last-child::after {align-self: flex-start;width: 50%;}#sk-container-id-1 div.sk-parallel-item:only-child::after {width: 0;}#sk-container-id-1 div.sk-dashed-wrapped {border: 1px dashed gray;margin: 0 0.4em 0.5em 0.4em;box-sizing: border-box;padding-bottom: 0.4em;background-color: white;}#sk-container-id-1 div.sk-label label {font-family: monospace;font-weight: bold;display: inline-block;line-height: 1.2em;}#sk-container-id-1 div.sk-label-container {text-align: center;}#sk-container-id-1 div.sk-container {/* jupyter's `normalize.less` sets `[hidden] { display: none; }` but bootstrap.min.css set `[hidden] { display: none !important; }` so we also need the `!important` here to be able to override the default hidden behavior on the sphinx rendered scikit-learn.org. See: https://github.com/scikit-learn/scikit-learn/issues/21755 */display: inline-block !important;position: relative;}#sk-container-id-1 div.sk-text-repr-fallback {display: none;}</style><div id=\"sk-container-id-1\" class=\"sk-top-container\"><div class=\"sk-text-repr-fallback\"><pre>LogisticRegression()</pre><b>In a Jupyter environment, please rerun this cell to show the HTML representation or trust the notebook. <br />On GitHub, the HTML representation is unable to render, please try loading this page with nbviewer.org.</b></div><div class=\"sk-container\" hidden><div class=\"sk-item\"><div class=\"sk-estimator sk-toggleable\"><input class=\"sk-toggleable__control sk-hidden--visually\" id=\"sk-estimator-id-1\" type=\"checkbox\" checked><label for=\"sk-estimator-id-1\" class=\"sk-toggleable__label sk-toggleable__label-arrow\">LogisticRegression</label><div class=\"sk-toggleable__content\"><pre>LogisticRegression()</pre></div></div></div></div></div>"
            ]
          },
          "metadata": {},
          "execution_count": 21
        }
      ]
    },
    {
      "cell_type": "markdown",
      "source": [
        "#RandomUnderSampler"
      ],
      "metadata": {
        "id": "97CVDR7-iRV9"
      }
    },
    {
      "cell_type": "code",
      "source": [
        "import pandas as pd\n",
        "from imblearn.under_sampling import RandomUnderSampler\n",
        "from collections import Counter"
      ],
      "metadata": {
        "id": "4dAqdpE8jGsM"
      },
      "execution_count": null,
      "outputs": []
    },
    {
      "cell_type": "code",
      "source": [
        "# load dataset from Kaggle\n",
        "df = pd.read_csv('creditcard.csv')"
      ],
      "metadata": {
        "id": "tnuslRfNilbR"
      },
      "execution_count": null,
      "outputs": []
    },
    {
      "cell_type": "code",
      "source": [
        "# drop rows with missing values\n",
        "df = df.dropna()\n",
        "#because the output has nan and ml models can't fit when the output has nan values"
      ],
      "metadata": {
        "id": "SQivW-u5ilbS"
      },
      "execution_count": null,
      "outputs": []
    },
    {
      "cell_type": "code",
      "source": [
        "# separate features and target variable\n",
        "X = df.drop('Class', axis=1)\n",
        "y = df['Class']"
      ],
      "metadata": {
        "id": "zE7L4xVAilbT"
      },
      "execution_count": null,
      "outputs": []
    },
    {
      "cell_type": "code",
      "source": [
        "# print the original class distribution\n",
        "print('Original class distribution:', Counter(y))"
      ],
      "metadata": {
        "colab": {
          "base_uri": "https://localhost:8080/"
        },
        "outputId": "dc0ce1da-5f26-4bda-bf9d-c1666a80ac6c",
        "id": "K0fSelikilbT"
      },
      "execution_count": null,
      "outputs": [
        {
          "output_type": "stream",
          "name": "stdout",
          "text": [
            "Original class distribution: Counter({0.0: 35638, 1.0: 103})\n"
          ]
        }
      ]
    },
    {
      "cell_type": "code",
      "source": [
        "df['Class'].value_counts()"
      ],
      "metadata": {
        "colab": {
          "base_uri": "https://localhost:8080/"
        },
        "outputId": "12f7e9c0-876f-4e71-8bc6-a46a767ceb1c",
        "id": "l9aOi68filbT"
      },
      "execution_count": null,
      "outputs": [
        {
          "output_type": "execute_result",
          "data": {
            "text/plain": [
              "0.0    35638\n",
              "1.0      103\n",
              "Name: Class, dtype: int64"
            ]
          },
          "metadata": {},
          "execution_count": 27
        }
      ]
    },
    {
      "cell_type": "code",
      "source": [
        "# create undersampler object\n",
        "rus = RandomUnderSampler(random_state=42)\n",
        "\n",
        "# apply undersampling to the data\n",
        "X_resampled, y_resampled = rus.fit_resample(X, y)"
      ],
      "metadata": {
        "id": "XBhejT6nilbT"
      },
      "execution_count": null,
      "outputs": []
    },
    {
      "cell_type": "code",
      "execution_count": null,
      "metadata": {
        "colab": {
          "base_uri": "https://localhost:8080/"
        },
        "outputId": "292fb651-bc35-4d13-d9a8-6f7de8a88797",
        "id": "xAzEYrFRilbU"
      },
      "outputs": [
        {
          "output_type": "stream",
          "name": "stdout",
          "text": [
            "Resampled class distribution: Counter({0.0: 103, 1.0: 103})\n"
          ]
        }
      ],
      "source": [
        "# print the new class distribution\n",
        "print('Resampled class distribution:', Counter(y_resampled))"
      ]
    },
    {
      "cell_type": "markdown",
      "source": [
        "*** you can control the ratio of samples in the minority and majority classes using the sampling_strategy parameter in both RandomOverSampler and RandomUnderSampler.***"
      ],
      "metadata": {
        "id": "e1g3KZQhjgNU"
      }
    },
    {
      "cell_type": "code",
      "source": [
        "# create undersampler object\n",
        "rus = RandomUnderSampler(sampling_strategy=0.5,random_state=42)\n",
        "\n",
        "# apply undersampling to the data\n",
        "X_resampled, y_resampled = rus.fit_resample(X, y)"
      ],
      "metadata": {
        "id": "yXz-BosIjeH7"
      },
      "execution_count": null,
      "outputs": []
    },
    {
      "cell_type": "code",
      "source": [
        "# print the new class distribution\n",
        "print('Resampled class distribution:', Counter(y_resampled))"
      ],
      "metadata": {
        "colab": {
          "base_uri": "https://localhost:8080/"
        },
        "id": "radlhJ1rjr1T",
        "outputId": "a5513472-405d-4644-ad50-9b2ff99148a9"
      },
      "execution_count": null,
      "outputs": [
        {
          "output_type": "stream",
          "name": "stdout",
          "text": [
            "Resampled class distribution: Counter({0.0: 206, 1.0: 103})\n"
          ]
        }
      ]
    },
    {
      "cell_type": "markdown",
      "source": [
        "#Tomek Links"
      ],
      "metadata": {
        "id": "cSSzfNVAkMd0"
      }
    },
    {
      "cell_type": "code",
      "source": [
        "import pandas as pd\n",
        "from imblearn.under_sampling import TomekLinks\n",
        "from collections import Counter"
      ],
      "metadata": {
        "id": "Ygn7KmUOkWRk"
      },
      "execution_count": null,
      "outputs": []
    },
    {
      "cell_type": "code",
      "source": [
        "# load dataset from Kaggle\n",
        "df = pd.read_csv('creditcard.csv')"
      ],
      "metadata": {
        "id": "quFidNj2k9TH"
      },
      "execution_count": null,
      "outputs": []
    },
    {
      "cell_type": "code",
      "source": [
        "# drop rows with missing values\n",
        "df = df.dropna()\n",
        "#because the output has nan and ml models can't fit when the output has nan values"
      ],
      "metadata": {
        "id": "XdXEdnxpk9TI"
      },
      "execution_count": null,
      "outputs": []
    },
    {
      "cell_type": "code",
      "source": [
        "# separate features and target variable\n",
        "X = df.drop('Class', axis=1)\n",
        "y = df['Class']"
      ],
      "metadata": {
        "id": "sTwuUSLGk9TI"
      },
      "execution_count": null,
      "outputs": []
    },
    {
      "cell_type": "code",
      "source": [
        "# print the original class distribution\n",
        "print('Original class distribution:', Counter(y))"
      ],
      "metadata": {
        "id": "VlDr9Y95k9TJ",
        "colab": {
          "base_uri": "https://localhost:8080/"
        },
        "outputId": "70b0d6b2-c0ac-4ac9-faf1-02929d8fecbe"
      },
      "execution_count": null,
      "outputs": [
        {
          "output_type": "stream",
          "name": "stdout",
          "text": [
            "Original class distribution: Counter({0.0: 35638, 1.0: 103})\n"
          ]
        }
      ]
    },
    {
      "cell_type": "code",
      "source": [
        "df['Class'].value_counts()"
      ],
      "metadata": {
        "id": "ETKFvCFyk9TK",
        "colab": {
          "base_uri": "https://localhost:8080/"
        },
        "outputId": "b503686e-e764-494f-e13d-4d61bf506ea1"
      },
      "execution_count": null,
      "outputs": [
        {
          "output_type": "execute_result",
          "data": {
            "text/plain": [
              "0.0    35638\n",
              "1.0      103\n",
              "Name: Class, dtype: int64"
            ]
          },
          "metadata": {},
          "execution_count": 37
        }
      ]
    },
    {
      "cell_type": "code",
      "source": [
        "# create oversampler object\n",
        "rus = TomekLinks()\n",
        "\n",
        "# apply oversampling to the data\n",
        "X_resampled, y_resampled = rus.fit_resample(X, y)"
      ],
      "metadata": {
        "id": "mmfWXjOFk9TL"
      },
      "execution_count": null,
      "outputs": []
    },
    {
      "cell_type": "code",
      "execution_count": null,
      "metadata": {
        "id": "p3g9zbIsk9TL",
        "colab": {
          "base_uri": "https://localhost:8080/"
        },
        "outputId": "ccee256b-8b98-45e0-e70d-29ea5de95a5d"
      },
      "outputs": [
        {
          "output_type": "stream",
          "name": "stdout",
          "text": [
            "Resampled class distribution: Counter({0.0: 35628, 1.0: 103})\n"
          ]
        }
      ],
      "source": [
        "# print the new class distribution\n",
        "print('Resampled class distribution:', Counter(y_resampled))"
      ]
    },
    {
      "cell_type": "markdown",
      "source": [
        "*** you can not control the ratio of samples in the minority and majority classes using the sampling_strategy parameter***"
      ],
      "metadata": {
        "id": "tRn72McIk9TM"
      }
    }
  ]
}