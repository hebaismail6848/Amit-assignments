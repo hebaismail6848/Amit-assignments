{
  "cells": [
    {
      "cell_type": "markdown",
      "metadata": {
        "id": "view-in-github",
        "colab_type": "text"
      },
      "source": [
        "<a href=\"https://colab.research.google.com/github/hebaismail6848/Amit-assignments/blob/main/VGG16.ipynb\" target=\"_parent\"><img src=\"https://colab.research.google.com/assets/colab-badge.svg\" alt=\"Open In Colab\"/></a>"
      ]
    },
    {
      "cell_type": "code",
      "execution_count": null,
      "id": "1a00781b",
      "metadata": {
        "id": "1a00781b",
        "outputId": "6b9c913e-0dcd-4afa-e7df-46c970cec7f7"
      },
      "outputs": [
        {
          "name": "stdout",
          "output_type": "stream",
          "text": [
            "Requirement already satisfied: opencv-python in c:\\users\\lenovo\\anaconda3\\lib\\site-packages (4.8.1.78)\n",
            "Requirement already satisfied: numpy>=1.17.0 in c:\\users\\lenovo\\anaconda3\\lib\\site-packages (from opencv-python) (1.23.5)\n"
          ]
        }
      ],
      "source": [
        "!pip install opencv-python"
      ]
    },
    {
      "cell_type": "code",
      "execution_count": null,
      "id": "d3848fdc",
      "metadata": {
        "id": "d3848fdc",
        "outputId": "c8eed10a-9916-4474-fe63-88d5ead84d87"
      },
      "outputs": [
        {
          "name": "stderr",
          "output_type": "stream",
          "text": [
            "C:\\Users\\Lenovo\\anaconda3\\lib\\site-packages\\numpy\\_distributor_init.py:30: UserWarning: loaded more than 1 DLL from .libs:\n",
            "C:\\Users\\Lenovo\\anaconda3\\lib\\site-packages\\numpy\\.libs\\libopenblas.FB5AE2TYXYH2IJRDKGDGQ3XBKLKTF43H.gfortran-win_amd64.dll\n",
            "C:\\Users\\Lenovo\\anaconda3\\lib\\site-packages\\numpy\\.libs\\libopenblas64__v0.3.21-gcc_10_3_0.dll\n",
            "  warnings.warn(\"loaded more than 1 DLL from .libs:\"\n"
          ]
        }
      ],
      "source": [
        "import numpy as np\n",
        "import pandas as pd\n",
        "import cv2\n",
        "import tensorflow as tf\n",
        "from tensorflow import keras\n",
        "from keras.preprocessing.image import ImageDataGenerator"
      ]
    },
    {
      "cell_type": "code",
      "execution_count": null,
      "id": "fd986d7f",
      "metadata": {
        "id": "fd986d7f"
      },
      "outputs": [],
      "source": [
        "train_path='dataset_animal/train'\n",
        "val_path='dataset_animal/val'\n",
        "test_path='dataset_animal/testing'"
      ]
    },
    {
      "cell_type": "code",
      "execution_count": null,
      "id": "d512bcad",
      "metadata": {
        "id": "d512bcad",
        "outputId": "feea74a1-0b9c-4452-bf43-0420336b5265"
      },
      "outputs": [
        {
          "name": "stdout",
          "output_type": "stream",
          "text": [
            "Found 461 images belonging to 2 classes.\n",
            "Found 96 images belonging to 2 classes.\n",
            "Found 140 images belonging to 2 classes.\n"
          ]
        }
      ],
      "source": [
        "train_batch=ImageDataGenerator(preprocessing_function=tf.keras.applications.vgg16.preprocess_input).flow_from_directory(\n",
        "            directory=train_path,target_size=(224,244),batch_size=10)\n",
        "\n",
        "val_batch=ImageDataGenerator(preprocessing_function=tf.keras.applications.vgg16.preprocess_input).flow_from_directory(\n",
        "            directory=val_path,target_size=(224,244),batch_size=10)\n",
        "\n",
        "test_batch=ImageDataGenerator(preprocessing_function=tf.keras.applications.vgg16.preprocess_input).flow_from_directory(\n",
        "            directory=test_path,target_size=(224,244),batch_size=10)"
      ]
    },
    {
      "cell_type": "code",
      "execution_count": null,
      "id": "f55827ee",
      "metadata": {
        "id": "f55827ee"
      },
      "outputs": [],
      "source": [
        "tf.keras.applications."
      ]
    },
    {
      "cell_type": "code",
      "execution_count": null,
      "id": "56cc2eae",
      "metadata": {
        "id": "56cc2eae",
        "outputId": "18914297-ea4a-4e2c-bfd4-3fd40860504b"
      },
      "outputs": [
        {
          "name": "stdout",
          "output_type": "stream",
          "text": [
            "Downloading data from https://storage.googleapis.com/tensorflow/keras-applications/vgg16/vgg16_weights_tf_dim_ordering_tf_kernels.h5\n",
            "553467096/553467096 [==============================] - 423s 1us/step\n"
          ]
        }
      ],
      "source": [
        "vgg16_model=tf.keras.applications.vgg16.VGG16()"
      ]
    },
    {
      "cell_type": "code",
      "execution_count": null,
      "id": "7ec35ae5",
      "metadata": {
        "id": "7ec35ae5",
        "outputId": "2e892b19-cd79-434e-998a-2784523c690d"
      },
      "outputs": [
        {
          "name": "stdout",
          "output_type": "stream",
          "text": [
            "Model: \"vgg16\"\n",
            "_________________________________________________________________\n",
            " Layer (type)                Output Shape              Param #   \n",
            "=================================================================\n",
            " input_1 (InputLayer)        [(None, 224, 224, 3)]     0         \n",
            "                                                                 \n",
            " block1_conv1 (Conv2D)       (None, 224, 224, 64)      1792      \n",
            "                                                                 \n",
            " block1_conv2 (Conv2D)       (None, 224, 224, 64)      36928     \n",
            "                                                                 \n",
            " block1_pool (MaxPooling2D)  (None, 112, 112, 64)      0         \n",
            "                                                                 \n",
            " block2_conv1 (Conv2D)       (None, 112, 112, 128)     73856     \n",
            "                                                                 \n",
            " block2_conv2 (Conv2D)       (None, 112, 112, 128)     147584    \n",
            "                                                                 \n",
            " block2_pool (MaxPooling2D)  (None, 56, 56, 128)       0         \n",
            "                                                                 \n",
            " block3_conv1 (Conv2D)       (None, 56, 56, 256)       295168    \n",
            "                                                                 \n",
            " block3_conv2 (Conv2D)       (None, 56, 56, 256)       590080    \n",
            "                                                                 \n",
            " block3_conv3 (Conv2D)       (None, 56, 56, 256)       590080    \n",
            "                                                                 \n",
            " block3_pool (MaxPooling2D)  (None, 28, 28, 256)       0         \n",
            "                                                                 \n",
            " block4_conv1 (Conv2D)       (None, 28, 28, 512)       1180160   \n",
            "                                                                 \n",
            " block4_conv2 (Conv2D)       (None, 28, 28, 512)       2359808   \n",
            "                                                                 \n",
            " block4_conv3 (Conv2D)       (None, 28, 28, 512)       2359808   \n",
            "                                                                 \n",
            " block4_pool (MaxPooling2D)  (None, 14, 14, 512)       0         \n",
            "                                                                 \n",
            " block5_conv1 (Conv2D)       (None, 14, 14, 512)       2359808   \n",
            "                                                                 \n",
            " block5_conv2 (Conv2D)       (None, 14, 14, 512)       2359808   \n",
            "                                                                 \n",
            " block5_conv3 (Conv2D)       (None, 14, 14, 512)       2359808   \n",
            "                                                                 \n",
            " block5_pool (MaxPooling2D)  (None, 7, 7, 512)         0         \n",
            "                                                                 \n",
            " flatten (Flatten)           (None, 25088)             0         \n",
            "                                                                 \n",
            " fc1 (Dense)                 (None, 4096)              102764544 \n",
            "                                                                 \n",
            " fc2 (Dense)                 (None, 4096)              16781312  \n",
            "                                                                 \n",
            " predictions (Dense)         (None, 1000)              4097000   \n",
            "                                                                 \n",
            "=================================================================\n",
            "Total params: 138,357,544\n",
            "Trainable params: 138,357,544\n",
            "Non-trainable params: 0\n",
            "_________________________________________________________________\n"
          ]
        }
      ],
      "source": [
        "vgg16_model.summary()"
      ]
    },
    {
      "cell_type": "code",
      "execution_count": null,
      "id": "ca3c23ae",
      "metadata": {
        "id": "ca3c23ae"
      },
      "outputs": [],
      "source": [
        "model=keras.Sequential()\n",
        "for layer in vgg16_model.layers[:-1]:\n",
        "    model.add(layer)"
      ]
    },
    {
      "cell_type": "code",
      "execution_count": null,
      "id": "56d1cd18",
      "metadata": {
        "id": "56d1cd18"
      },
      "outputs": [],
      "source": [
        "for layer in model.layers:\n",
        "    layer.trainable=False"
      ]
    },
    {
      "cell_type": "code",
      "execution_count": null,
      "id": "7b69c8d2",
      "metadata": {
        "id": "7b69c8d2"
      },
      "outputs": [],
      "source": [
        "model.add(keras.layers.Dense(2,activation='softmax'))"
      ]
    },
    {
      "cell_type": "code",
      "execution_count": null,
      "id": "2d094dbe",
      "metadata": {
        "id": "2d094dbe",
        "outputId": "ff8b9889-7ce8-41ab-ea76-80d93842379f"
      },
      "outputs": [
        {
          "name": "stdout",
          "output_type": "stream",
          "text": [
            "Model: \"sequential\"\n",
            "_________________________________________________________________\n",
            " Layer (type)                Output Shape              Param #   \n",
            "=================================================================\n",
            " block1_conv1 (Conv2D)       (None, 224, 224, 64)      1792      \n",
            "                                                                 \n",
            " block1_conv2 (Conv2D)       (None, 224, 224, 64)      36928     \n",
            "                                                                 \n",
            " block1_pool (MaxPooling2D)  (None, 112, 112, 64)      0         \n",
            "                                                                 \n",
            " block2_conv1 (Conv2D)       (None, 112, 112, 128)     73856     \n",
            "                                                                 \n",
            " block2_conv2 (Conv2D)       (None, 112, 112, 128)     147584    \n",
            "                                                                 \n",
            " block2_pool (MaxPooling2D)  (None, 56, 56, 128)       0         \n",
            "                                                                 \n",
            " block3_conv1 (Conv2D)       (None, 56, 56, 256)       295168    \n",
            "                                                                 \n",
            " block3_conv2 (Conv2D)       (None, 56, 56, 256)       590080    \n",
            "                                                                 \n",
            " block3_conv3 (Conv2D)       (None, 56, 56, 256)       590080    \n",
            "                                                                 \n",
            " block3_pool (MaxPooling2D)  (None, 28, 28, 256)       0         \n",
            "                                                                 \n",
            " block4_conv1 (Conv2D)       (None, 28, 28, 512)       1180160   \n",
            "                                                                 \n",
            " block4_conv2 (Conv2D)       (None, 28, 28, 512)       2359808   \n",
            "                                                                 \n",
            " block4_conv3 (Conv2D)       (None, 28, 28, 512)       2359808   \n",
            "                                                                 \n",
            " block4_pool (MaxPooling2D)  (None, 14, 14, 512)       0         \n",
            "                                                                 \n",
            " block5_conv1 (Conv2D)       (None, 14, 14, 512)       2359808   \n",
            "                                                                 \n",
            " block5_conv2 (Conv2D)       (None, 14, 14, 512)       2359808   \n",
            "                                                                 \n",
            " block5_conv3 (Conv2D)       (None, 14, 14, 512)       2359808   \n",
            "                                                                 \n",
            " block5_pool (MaxPooling2D)  (None, 7, 7, 512)         0         \n",
            "                                                                 \n",
            " flatten (Flatten)           (None, 25088)             0         \n",
            "                                                                 \n",
            " fc1 (Dense)                 (None, 4096)              102764544 \n",
            "                                                                 \n",
            " fc2 (Dense)                 (None, 4096)              16781312  \n",
            "                                                                 \n",
            " dense (Dense)               (None, 2)                 8194      \n",
            "                                                                 \n",
            "=================================================================\n",
            "Total params: 134,268,738\n",
            "Trainable params: 8,194\n",
            "Non-trainable params: 134,260,544\n",
            "_________________________________________________________________\n"
          ]
        }
      ],
      "source": [
        "model.summary()"
      ]
    },
    {
      "cell_type": "code",
      "execution_count": null,
      "id": "a799f84c",
      "metadata": {
        "id": "a799f84c"
      },
      "outputs": [],
      "source": [
        "model.compile(optimizer='adam',loss=\"categorical_crossentropy\", metrics=['accuracy'])"
      ]
    },
    {
      "cell_type": "code",
      "execution_count": null,
      "id": "f6cd7e12",
      "metadata": {
        "id": "f6cd7e12",
        "outputId": "799dfc08-9085-4ef8-acf8-883e573b4aef"
      },
      "outputs": [
        {
          "name": "stdout",
          "output_type": "stream",
          "text": [
            "Epoch 1/5\n",
            "47/47 [==============================] - 96s 2s/step - loss: 0.2387 - accuracy: 0.9132 - val_loss: 0.1394 - val_accuracy: 0.9375\n",
            "Epoch 2/5\n",
            "47/47 [==============================] - 104s 2s/step - loss: 0.0794 - accuracy: 0.9761 - val_loss: 0.0791 - val_accuracy: 0.9792\n",
            "Epoch 3/5\n",
            "47/47 [==============================] - 104s 2s/step - loss: 0.0208 - accuracy: 0.9957 - val_loss: 0.0416 - val_accuracy: 0.9896\n",
            "Epoch 4/5\n",
            "47/47 [==============================] - 116s 2s/step - loss: 0.0020 - accuracy: 1.0000 - val_loss: 0.0527 - val_accuracy: 0.9896\n",
            "Epoch 5/5\n",
            "47/47 [==============================] - 130s 3s/step - loss: 9.9282e-04 - accuracy: 1.0000 - val_loss: 0.0484 - val_accuracy: 0.9896\n"
          ]
        }
      ],
      "source": [
        "result=model.fit(train_batch,validation_data=val_batch,epochs=5,verbose=1)"
      ]
    },
    {
      "cell_type": "code",
      "execution_count": null,
      "id": "da2da368",
      "metadata": {
        "id": "da2da368",
        "outputId": "3b7ea55e-d11e-4969-9381-a16e628582d4"
      },
      "outputs": [
        {
          "data": {
            "text/plain": [
              "[0.9132320880889893, 0.9761388301849365, 0.9956616163253784, 1.0, 1.0]"
            ]
          },
          "execution_count": 13,
          "metadata": {},
          "output_type": "execute_result"
        }
      ],
      "source": [
        "result.history['accuracy']"
      ]
    },
    {
      "cell_type": "code",
      "execution_count": null,
      "id": "e97626d7",
      "metadata": {
        "id": "e97626d7",
        "outputId": "0f0769ed-0017-4a6c-92b2-a0d8c8e0199a"
      },
      "outputs": [
        {
          "data": {
            "text/plain": [
              "[0.9375,\n",
              " 0.9791666865348816,\n",
              " 0.9895833134651184,\n",
              " 0.9895833134651184,\n",
              " 0.9895833134651184]"
            ]
          },
          "execution_count": 14,
          "metadata": {},
          "output_type": "execute_result"
        }
      ],
      "source": [
        "result.history['val_accuracy']"
      ]
    },
    {
      "cell_type": "code",
      "execution_count": null,
      "id": "15fc630f",
      "metadata": {
        "id": "15fc630f",
        "outputId": "0d7f3dd7-2fa9-4d91-9dcc-e64a769400a6"
      },
      "outputs": [
        {
          "name": "stdout",
          "output_type": "stream",
          "text": [
            "14/14 [==============================] - 26s 2s/step - loss: 0.1803 - accuracy: 0.9500\n"
          ]
        },
        {
          "data": {
            "text/plain": [
              "[0.18034067749977112, 0.949999988079071]"
            ]
          },
          "execution_count": 15,
          "metadata": {},
          "output_type": "execute_result"
        }
      ],
      "source": [
        "model.evaluate(test_batch)"
      ]
    },
    {
      "cell_type": "code",
      "execution_count": null,
      "id": "1162c5f0",
      "metadata": {
        "id": "1162c5f0"
      },
      "outputs": [],
      "source": []
    }
  ],
  "metadata": {
    "kernelspec": {
      "display_name": "Python 3 (ipykernel)",
      "language": "python",
      "name": "python3"
    },
    "language_info": {
      "codemirror_mode": {
        "name": "ipython",
        "version": 3
      },
      "file_extension": ".py",
      "mimetype": "text/x-python",
      "name": "python",
      "nbconvert_exporter": "python",
      "pygments_lexer": "ipython3",
      "version": "3.8.8"
    },
    "colab": {
      "provenance": [],
      "include_colab_link": true
    }
  },
  "nbformat": 4,
  "nbformat_minor": 5
}